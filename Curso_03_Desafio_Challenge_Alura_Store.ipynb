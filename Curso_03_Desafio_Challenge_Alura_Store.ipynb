{
  "nbformat": 4,
  "nbformat_minor": 0,
  "metadata": {
    "colab": {
      "provenance": []
    },
    "kernelspec": {
      "name": "python3",
      "display_name": "Python 3"
    },
    "language_info": {
      "name": "python"
    }
  },
  "cells": [
    {
      "cell_type": "markdown",
      "source": [
        "### Importação dos dados\n",
        "\n"
      ],
      "metadata": {
        "id": "RhEdWd9YUR6H"
      }
    },
    {
      "cell_type": "code",
      "execution_count": 1,
      "metadata": {
        "colab": {
          "base_uri": "https://localhost:8080/",
          "height": 293
        },
        "id": "T3EvaeQ_INIL",
        "outputId": "4d70b302-5709-40e7-c764-177a421f60c1"
      },
      "outputs": [
        {
          "output_type": "execute_result",
          "data": {
            "text/plain": [
              "                 Produto Categoria do Produto    Preço      Frete  \\\n",
              "0     Assistente virtual          eletronicos   219.08   9.249790   \n",
              "1         Mesa de jantar               moveis   256.35  11.234305   \n",
              "2      Jogo de tabuleiro           brinquedos   279.51  21.262681   \n",
              "3            Micro-ondas     eletrodomesticos  1009.99  54.667344   \n",
              "4  Cadeira de escritório               moveis   446.99  26.964689   \n",
              "\n",
              "  Data da Compra        Vendedor Local da compra  Avaliação da compra  \\\n",
              "0     16/01/2021     Pedro Gomes              SP                    4   \n",
              "1     18/05/2022  Beatriz Moraes              RJ                    1   \n",
              "2     15/03/2021      João Souza              DF                    1   \n",
              "3     03/05/2022      João Souza              RS                    4   \n",
              "4     07/11/2020   Larissa Alves              MG                    5   \n",
              "\n",
              "  Tipo de pagamento  Quantidade de parcelas    lat    lon  \n",
              "0    cartao_credito                       8 -22.19 -48.79  \n",
              "1    cartao_credito                       4 -22.25 -42.66  \n",
              "2    cartao_credito                       1 -15.83 -47.86  \n",
              "3            boleto                       1 -30.17 -53.50  \n",
              "4            boleto                       1 -18.10 -44.38  "
            ],
            "text/html": [
              "\n",
              "  <div id=\"df-c1c0e228-6e77-4517-af4d-7a69b7aa15a6\" class=\"colab-df-container\">\n",
              "    <div>\n",
              "<style scoped>\n",
              "    .dataframe tbody tr th:only-of-type {\n",
              "        vertical-align: middle;\n",
              "    }\n",
              "\n",
              "    .dataframe tbody tr th {\n",
              "        vertical-align: top;\n",
              "    }\n",
              "\n",
              "    .dataframe thead th {\n",
              "        text-align: right;\n",
              "    }\n",
              "</style>\n",
              "<table border=\"1\" class=\"dataframe\">\n",
              "  <thead>\n",
              "    <tr style=\"text-align: right;\">\n",
              "      <th></th>\n",
              "      <th>Produto</th>\n",
              "      <th>Categoria do Produto</th>\n",
              "      <th>Preço</th>\n",
              "      <th>Frete</th>\n",
              "      <th>Data da Compra</th>\n",
              "      <th>Vendedor</th>\n",
              "      <th>Local da compra</th>\n",
              "      <th>Avaliação da compra</th>\n",
              "      <th>Tipo de pagamento</th>\n",
              "      <th>Quantidade de parcelas</th>\n",
              "      <th>lat</th>\n",
              "      <th>lon</th>\n",
              "    </tr>\n",
              "  </thead>\n",
              "  <tbody>\n",
              "    <tr>\n",
              "      <th>0</th>\n",
              "      <td>Assistente virtual</td>\n",
              "      <td>eletronicos</td>\n",
              "      <td>219.08</td>\n",
              "      <td>9.249790</td>\n",
              "      <td>16/01/2021</td>\n",
              "      <td>Pedro Gomes</td>\n",
              "      <td>SP</td>\n",
              "      <td>4</td>\n",
              "      <td>cartao_credito</td>\n",
              "      <td>8</td>\n",
              "      <td>-22.19</td>\n",
              "      <td>-48.79</td>\n",
              "    </tr>\n",
              "    <tr>\n",
              "      <th>1</th>\n",
              "      <td>Mesa de jantar</td>\n",
              "      <td>moveis</td>\n",
              "      <td>256.35</td>\n",
              "      <td>11.234305</td>\n",
              "      <td>18/05/2022</td>\n",
              "      <td>Beatriz Moraes</td>\n",
              "      <td>RJ</td>\n",
              "      <td>1</td>\n",
              "      <td>cartao_credito</td>\n",
              "      <td>4</td>\n",
              "      <td>-22.25</td>\n",
              "      <td>-42.66</td>\n",
              "    </tr>\n",
              "    <tr>\n",
              "      <th>2</th>\n",
              "      <td>Jogo de tabuleiro</td>\n",
              "      <td>brinquedos</td>\n",
              "      <td>279.51</td>\n",
              "      <td>21.262681</td>\n",
              "      <td>15/03/2021</td>\n",
              "      <td>João Souza</td>\n",
              "      <td>DF</td>\n",
              "      <td>1</td>\n",
              "      <td>cartao_credito</td>\n",
              "      <td>1</td>\n",
              "      <td>-15.83</td>\n",
              "      <td>-47.86</td>\n",
              "    </tr>\n",
              "    <tr>\n",
              "      <th>3</th>\n",
              "      <td>Micro-ondas</td>\n",
              "      <td>eletrodomesticos</td>\n",
              "      <td>1009.99</td>\n",
              "      <td>54.667344</td>\n",
              "      <td>03/05/2022</td>\n",
              "      <td>João Souza</td>\n",
              "      <td>RS</td>\n",
              "      <td>4</td>\n",
              "      <td>boleto</td>\n",
              "      <td>1</td>\n",
              "      <td>-30.17</td>\n",
              "      <td>-53.50</td>\n",
              "    </tr>\n",
              "    <tr>\n",
              "      <th>4</th>\n",
              "      <td>Cadeira de escritório</td>\n",
              "      <td>moveis</td>\n",
              "      <td>446.99</td>\n",
              "      <td>26.964689</td>\n",
              "      <td>07/11/2020</td>\n",
              "      <td>Larissa Alves</td>\n",
              "      <td>MG</td>\n",
              "      <td>5</td>\n",
              "      <td>boleto</td>\n",
              "      <td>1</td>\n",
              "      <td>-18.10</td>\n",
              "      <td>-44.38</td>\n",
              "    </tr>\n",
              "  </tbody>\n",
              "</table>\n",
              "</div>\n",
              "    <div class=\"colab-df-buttons\">\n",
              "\n",
              "  <div class=\"colab-df-container\">\n",
              "    <button class=\"colab-df-convert\" onclick=\"convertToInteractive('df-c1c0e228-6e77-4517-af4d-7a69b7aa15a6')\"\n",
              "            title=\"Convert this dataframe to an interactive table.\"\n",
              "            style=\"display:none;\">\n",
              "\n",
              "  <svg xmlns=\"http://www.w3.org/2000/svg\" height=\"24px\" viewBox=\"0 -960 960 960\">\n",
              "    <path d=\"M120-120v-720h720v720H120Zm60-500h600v-160H180v160Zm220 220h160v-160H400v160Zm0 220h160v-160H400v160ZM180-400h160v-160H180v160Zm440 0h160v-160H620v160ZM180-180h160v-160H180v160Zm440 0h160v-160H620v160Z\"/>\n",
              "  </svg>\n",
              "    </button>\n",
              "\n",
              "  <style>\n",
              "    .colab-df-container {\n",
              "      display:flex;\n",
              "      gap: 12px;\n",
              "    }\n",
              "\n",
              "    .colab-df-convert {\n",
              "      background-color: #E8F0FE;\n",
              "      border: none;\n",
              "      border-radius: 50%;\n",
              "      cursor: pointer;\n",
              "      display: none;\n",
              "      fill: #1967D2;\n",
              "      height: 32px;\n",
              "      padding: 0 0 0 0;\n",
              "      width: 32px;\n",
              "    }\n",
              "\n",
              "    .colab-df-convert:hover {\n",
              "      background-color: #E2EBFA;\n",
              "      box-shadow: 0px 1px 2px rgba(60, 64, 67, 0.3), 0px 1px 3px 1px rgba(60, 64, 67, 0.15);\n",
              "      fill: #174EA6;\n",
              "    }\n",
              "\n",
              "    .colab-df-buttons div {\n",
              "      margin-bottom: 4px;\n",
              "    }\n",
              "\n",
              "    [theme=dark] .colab-df-convert {\n",
              "      background-color: #3B4455;\n",
              "      fill: #D2E3FC;\n",
              "    }\n",
              "\n",
              "    [theme=dark] .colab-df-convert:hover {\n",
              "      background-color: #434B5C;\n",
              "      box-shadow: 0px 1px 3px 1px rgba(0, 0, 0, 0.15);\n",
              "      filter: drop-shadow(0px 1px 2px rgba(0, 0, 0, 0.3));\n",
              "      fill: #FFFFFF;\n",
              "    }\n",
              "  </style>\n",
              "\n",
              "    <script>\n",
              "      const buttonEl =\n",
              "        document.querySelector('#df-c1c0e228-6e77-4517-af4d-7a69b7aa15a6 button.colab-df-convert');\n",
              "      buttonEl.style.display =\n",
              "        google.colab.kernel.accessAllowed ? 'block' : 'none';\n",
              "\n",
              "      async function convertToInteractive(key) {\n",
              "        const element = document.querySelector('#df-c1c0e228-6e77-4517-af4d-7a69b7aa15a6');\n",
              "        const dataTable =\n",
              "          await google.colab.kernel.invokeFunction('convertToInteractive',\n",
              "                                                    [key], {});\n",
              "        if (!dataTable) return;\n",
              "\n",
              "        const docLinkHtml = 'Like what you see? Visit the ' +\n",
              "          '<a target=\"_blank\" href=https://colab.research.google.com/notebooks/data_table.ipynb>data table notebook</a>'\n",
              "          + ' to learn more about interactive tables.';\n",
              "        element.innerHTML = '';\n",
              "        dataTable['output_type'] = 'display_data';\n",
              "        await google.colab.output.renderOutput(dataTable, element);\n",
              "        const docLink = document.createElement('div');\n",
              "        docLink.innerHTML = docLinkHtml;\n",
              "        element.appendChild(docLink);\n",
              "      }\n",
              "    </script>\n",
              "  </div>\n",
              "\n",
              "\n",
              "    <div id=\"df-da190202-c1a9-4e3e-86f9-1fc257fa7a9b\">\n",
              "      <button class=\"colab-df-quickchart\" onclick=\"quickchart('df-da190202-c1a9-4e3e-86f9-1fc257fa7a9b')\"\n",
              "                title=\"Suggest charts\"\n",
              "                style=\"display:none;\">\n",
              "\n",
              "<svg xmlns=\"http://www.w3.org/2000/svg\" height=\"24px\"viewBox=\"0 0 24 24\"\n",
              "     width=\"24px\">\n",
              "    <g>\n",
              "        <path d=\"M19 3H5c-1.1 0-2 .9-2 2v14c0 1.1.9 2 2 2h14c1.1 0 2-.9 2-2V5c0-1.1-.9-2-2-2zM9 17H7v-7h2v7zm4 0h-2V7h2v10zm4 0h-2v-4h2v4z\"/>\n",
              "    </g>\n",
              "</svg>\n",
              "      </button>\n",
              "\n",
              "<style>\n",
              "  .colab-df-quickchart {\n",
              "      --bg-color: #E8F0FE;\n",
              "      --fill-color: #1967D2;\n",
              "      --hover-bg-color: #E2EBFA;\n",
              "      --hover-fill-color: #174EA6;\n",
              "      --disabled-fill-color: #AAA;\n",
              "      --disabled-bg-color: #DDD;\n",
              "  }\n",
              "\n",
              "  [theme=dark] .colab-df-quickchart {\n",
              "      --bg-color: #3B4455;\n",
              "      --fill-color: #D2E3FC;\n",
              "      --hover-bg-color: #434B5C;\n",
              "      --hover-fill-color: #FFFFFF;\n",
              "      --disabled-bg-color: #3B4455;\n",
              "      --disabled-fill-color: #666;\n",
              "  }\n",
              "\n",
              "  .colab-df-quickchart {\n",
              "    background-color: var(--bg-color);\n",
              "    border: none;\n",
              "    border-radius: 50%;\n",
              "    cursor: pointer;\n",
              "    display: none;\n",
              "    fill: var(--fill-color);\n",
              "    height: 32px;\n",
              "    padding: 0;\n",
              "    width: 32px;\n",
              "  }\n",
              "\n",
              "  .colab-df-quickchart:hover {\n",
              "    background-color: var(--hover-bg-color);\n",
              "    box-shadow: 0 1px 2px rgba(60, 64, 67, 0.3), 0 1px 3px 1px rgba(60, 64, 67, 0.15);\n",
              "    fill: var(--button-hover-fill-color);\n",
              "  }\n",
              "\n",
              "  .colab-df-quickchart-complete:disabled,\n",
              "  .colab-df-quickchart-complete:disabled:hover {\n",
              "    background-color: var(--disabled-bg-color);\n",
              "    fill: var(--disabled-fill-color);\n",
              "    box-shadow: none;\n",
              "  }\n",
              "\n",
              "  .colab-df-spinner {\n",
              "    border: 2px solid var(--fill-color);\n",
              "    border-color: transparent;\n",
              "    border-bottom-color: var(--fill-color);\n",
              "    animation:\n",
              "      spin 1s steps(1) infinite;\n",
              "  }\n",
              "\n",
              "  @keyframes spin {\n",
              "    0% {\n",
              "      border-color: transparent;\n",
              "      border-bottom-color: var(--fill-color);\n",
              "      border-left-color: var(--fill-color);\n",
              "    }\n",
              "    20% {\n",
              "      border-color: transparent;\n",
              "      border-left-color: var(--fill-color);\n",
              "      border-top-color: var(--fill-color);\n",
              "    }\n",
              "    30% {\n",
              "      border-color: transparent;\n",
              "      border-left-color: var(--fill-color);\n",
              "      border-top-color: var(--fill-color);\n",
              "      border-right-color: var(--fill-color);\n",
              "    }\n",
              "    40% {\n",
              "      border-color: transparent;\n",
              "      border-right-color: var(--fill-color);\n",
              "      border-top-color: var(--fill-color);\n",
              "    }\n",
              "    60% {\n",
              "      border-color: transparent;\n",
              "      border-right-color: var(--fill-color);\n",
              "    }\n",
              "    80% {\n",
              "      border-color: transparent;\n",
              "      border-right-color: var(--fill-color);\n",
              "      border-bottom-color: var(--fill-color);\n",
              "    }\n",
              "    90% {\n",
              "      border-color: transparent;\n",
              "      border-bottom-color: var(--fill-color);\n",
              "    }\n",
              "  }\n",
              "</style>\n",
              "\n",
              "      <script>\n",
              "        async function quickchart(key) {\n",
              "          const quickchartButtonEl =\n",
              "            document.querySelector('#' + key + ' button');\n",
              "          quickchartButtonEl.disabled = true;  // To prevent multiple clicks.\n",
              "          quickchartButtonEl.classList.add('colab-df-spinner');\n",
              "          try {\n",
              "            const charts = await google.colab.kernel.invokeFunction(\n",
              "                'suggestCharts', [key], {});\n",
              "          } catch (error) {\n",
              "            console.error('Error during call to suggestCharts:', error);\n",
              "          }\n",
              "          quickchartButtonEl.classList.remove('colab-df-spinner');\n",
              "          quickchartButtonEl.classList.add('colab-df-quickchart-complete');\n",
              "        }\n",
              "        (() => {\n",
              "          let quickchartButtonEl =\n",
              "            document.querySelector('#df-da190202-c1a9-4e3e-86f9-1fc257fa7a9b button');\n",
              "          quickchartButtonEl.style.display =\n",
              "            google.colab.kernel.accessAllowed ? 'block' : 'none';\n",
              "        })();\n",
              "      </script>\n",
              "    </div>\n",
              "\n",
              "    </div>\n",
              "  </div>\n"
            ],
            "application/vnd.google.colaboratory.intrinsic+json": {
              "type": "dataframe",
              "variable_name": "loja",
              "summary": "{\n  \"name\": \"loja\",\n  \"rows\": 2359,\n  \"fields\": [\n    {\n      \"column\": \"Produto\",\n      \"properties\": {\n        \"dtype\": \"category\",\n        \"num_unique_values\": 51,\n        \"samples\": [\n          \"Viol\\u00e3o\",\n          \"Bola de basquete\",\n          \"Smartwatch\"\n        ],\n        \"semantic_type\": \"\",\n        \"description\": \"\"\n      }\n    },\n    {\n      \"column\": \"Categoria do Produto\",\n      \"properties\": {\n        \"dtype\": \"category\",\n        \"num_unique_values\": 8,\n        \"samples\": [\n          \"moveis\",\n          \"esporte e lazer\",\n          \"eletronicos\"\n        ],\n        \"semantic_type\": \"\",\n        \"description\": \"\"\n      }\n    },\n    {\n      \"column\": \"Pre\\u00e7o\",\n      \"properties\": {\n        \"dtype\": \"number\",\n        \"std\": 819.5827782539145,\n        \"min\": 10.07,\n        \"max\": 3969.38,\n        \"num_unique_values\": 2315,\n        \"samples\": [\n          446.11,\n          107.31,\n          65.86\n        ],\n        \"semantic_type\": \"\",\n        \"description\": \"\"\n      }\n    },\n    {\n      \"column\": \"Frete\",\n      \"properties\": {\n        \"dtype\": \"number\",\n        \"std\": 43.814183327408166,\n        \"min\": 0.0,\n        \"max\": 214.3770604781,\n        \"num_unique_values\": 2149,\n        \"samples\": [\n          83.815279607,\n          16.069664669,\n          14.0344876928\n        ],\n        \"semantic_type\": \"\",\n        \"description\": \"\"\n      }\n    },\n    {\n      \"column\": \"Data da Compra\",\n      \"properties\": {\n        \"dtype\": \"object\",\n        \"num_unique_values\": 1018,\n        \"samples\": [\n          \"15/09/2022\",\n          \"03/06/2020\",\n          \"06/11/2021\"\n        ],\n        \"semantic_type\": \"\",\n        \"description\": \"\"\n      }\n    },\n    {\n      \"column\": \"Vendedor\",\n      \"properties\": {\n        \"dtype\": \"category\",\n        \"num_unique_values\": 14,\n        \"samples\": [\n          \"Juliana Costa\",\n          \"Mariana Ferreira\",\n          \"Pedro Gomes\"\n        ],\n        \"semantic_type\": \"\",\n        \"description\": \"\"\n      }\n    },\n    {\n      \"column\": \"Local da compra\",\n      \"properties\": {\n        \"dtype\": \"category\",\n        \"num_unique_values\": 26,\n        \"samples\": [\n          \"TO\",\n          \"RN\",\n          \"SP\"\n        ],\n        \"semantic_type\": \"\",\n        \"description\": \"\"\n      }\n    },\n    {\n      \"column\": \"Avalia\\u00e7\\u00e3o da compra\",\n      \"properties\": {\n        \"dtype\": \"number\",\n        \"std\": 1,\n        \"min\": 1,\n        \"max\": 5,\n        \"num_unique_values\": 5,\n        \"samples\": [\n          1,\n          2,\n          5\n        ],\n        \"semantic_type\": \"\",\n        \"description\": \"\"\n      }\n    },\n    {\n      \"column\": \"Tipo de pagamento\",\n      \"properties\": {\n        \"dtype\": \"category\",\n        \"num_unique_values\": 4,\n        \"samples\": [\n          \"boleto\",\n          \"cartao_debito\",\n          \"cartao_credito\"\n        ],\n        \"semantic_type\": \"\",\n        \"description\": \"\"\n      }\n    },\n    {\n      \"column\": \"Quantidade de parcelas\",\n      \"properties\": {\n        \"dtype\": \"number\",\n        \"std\": 2,\n        \"min\": 1,\n        \"max\": 24,\n        \"num_unique_values\": 15,\n        \"samples\": [\n          7,\n          14,\n          8\n        ],\n        \"semantic_type\": \"\",\n        \"description\": \"\"\n      }\n    },\n    {\n      \"column\": \"lat\",\n      \"properties\": {\n        \"dtype\": \"number\",\n        \"std\": 5.372399916530833,\n        \"min\": -30.17,\n        \"max\": 1.41,\n        \"num_unique_values\": 26,\n        \"samples\": [\n          -9.46,\n          -5.81,\n          -22.19\n        ],\n        \"semantic_type\": \"\",\n        \"description\": \"\"\n      }\n    },\n    {\n      \"column\": \"lon\",\n      \"properties\": {\n        \"dtype\": \"number\",\n        \"std\": 4.183180020544179,\n        \"min\": -70.55,\n        \"max\": -36.59,\n        \"num_unique_values\": 26,\n        \"samples\": [\n          -48.26,\n          -36.59,\n          -48.79\n        ],\n        \"semantic_type\": \"\",\n        \"description\": \"\"\n      }\n    }\n  ]\n}"
            }
          },
          "metadata": {},
          "execution_count": 1
        }
      ],
      "source": [
        "import pandas as pd\n",
        "\n",
        "url = \"https://raw.githubusercontent.com/alura-es-cursos/challenge1-data-science/refs/heads/main/base-de-dados-challenge-1/loja_1.csv\"\n",
        "url2 = \"https://raw.githubusercontent.com/alura-es-cursos/challenge1-data-science/refs/heads/main/base-de-dados-challenge-1/loja_2.csv\"\n",
        "url3 = \"https://raw.githubusercontent.com/alura-es-cursos/challenge1-data-science/refs/heads/main/base-de-dados-challenge-1/loja_3.csv\"\n",
        "url4 = \"https://raw.githubusercontent.com/alura-es-cursos/challenge1-data-science/refs/heads/main/base-de-dados-challenge-1/loja_4.csv\"\n",
        "\n",
        "loja = pd.read_csv(url)\n",
        "loja2 = pd.read_csv(url2)\n",
        "loja3 = pd.read_csv(url3)\n",
        "loja4 = pd.read_csv(url4)\n",
        "\n",
        "loja.head()"
      ]
    },
    {
      "cell_type": "markdown",
      "source": [
        "#1. Análise do faturamento\n"
      ],
      "metadata": {
        "id": "X62IW3KFUIYm"
      }
    },
    {
      "cell_type": "code",
      "source": [
        "# Dicionário com os DataFrames\n",
        "lojas = {\n",
        "    \"Loja 1\": loja,\n",
        "    \"Loja 2\": loja2,\n",
        "    \"Loja 3\": loja3,\n",
        "    \"Loja 4\": loja4\n",
        "}\n",
        "\n",
        "# Cálculo e exibição dos faturamentos\n",
        "for nome, df in lojas.items():\n",
        "    faturamento = df['Preço'].sum()\n",
        "    print(f\"O faturamento da {nome} foi de: R$ {faturamento:,.2f}\")"
      ],
      "metadata": {
        "id": "xykobSftV64I",
        "colab": {
          "base_uri": "https://localhost:8080/"
        },
        "outputId": "5b9be5d3-3c19-4001-885c-6e2861f189ff"
      },
      "execution_count": 38,
      "outputs": [
        {
          "output_type": "stream",
          "name": "stdout",
          "text": [
            "O faturamento da Loja 1 foi de: R$ 1,534,509.12\n",
            "O faturamento da Loja 2 foi de: R$ 1,488,459.06\n",
            "O faturamento da Loja 3 foi de: R$ 1,464,025.03\n",
            "O faturamento da Loja 4 foi de: R$ 1,384,497.58\n"
          ]
        }
      ]
    },
    {
      "cell_type": "code",
      "source": [
        "import matplotlib.pyplot as plt\n",
        "\n",
        "# Faturamentos calculados\n",
        "faturamentos = {\n",
        "    \"Loja 1\": loja['Preço'].sum(),\n",
        "    \"Loja 2\": loja2['Preço'].sum(),\n",
        "    \"Loja 3\": loja3['Preço'].sum(),\n",
        "    \"Loja 4\": loja4['Preço'].sum()\n",
        "}\n",
        "\n",
        "# Dados do gráfico\n",
        "nomes_lojas = list(faturamentos.keys())\n",
        "valores_faturamento = list(faturamentos.values())\n",
        "\n",
        "# Gráfico\n",
        "plt.figure(figsize=(8, 5))\n",
        "plt.bar(nomes_lojas, valores_faturamento, color='cornflowerblue')\n",
        "\n",
        "plt.title(\"Faturamento Total por Loja\")\n",
        "plt.xlabel(\"Lojas\")\n",
        "plt.ylabel(\"Faturamento (R$)\")\n",
        "plt.xticks(rotation=0)\n",
        "\n",
        "# Adiciona o valor acima de cada barra\n",
        "for i, valor in enumerate(valores_faturamento):\n",
        "    plt.text(i, valor, f\"R$ {valor:,.2f}\", ha='center', va='bottom', fontsize=9)\n",
        "\n",
        "plt.tight_layout()\n",
        "plt.show()"
      ],
      "metadata": {
        "id": "KDyr8E71V3m-",
        "colab": {
          "base_uri": "https://localhost:8080/",
          "height": 507
        },
        "outputId": "b05a22f7-26da-46f7-e61b-a24b68cd18f4"
      },
      "execution_count": 56,
      "outputs": [
        {
          "output_type": "display_data",
          "data": {
            "text/plain": [
              "<Figure size 800x500 with 1 Axes>"
            ],
            "image/png": "[encoded data removed]"
          },
          "metadata": {}
        }
      ]
    },
    {
      "cell_type": "markdown",
      "source": [
        "# 2. Vendas por Categoria\n"
      ],
      "metadata": {
        "id": "2V_vcAPzWZmR"
      }
    },
    {
      "cell_type": "code",
      "source": [
        "print(\"Análise da quantidade de produtos vendidos por categoria em cada loja:\\n\")\n",
        "\n",
        "# Loop para análise por loja\n",
        "for nome_loja, df in lojas.items():\n",
        "    categorias = df['Categoria do Produto'].value_counts()\n",
        "    total_produtos = categorias.sum()\n",
        "\n",
        "    print(f\"{nome_loja}:\")\n",
        "    for categoria, quantidade in categorias.items():\n",
        "        print(f\"- Categoria '{categoria}': {quantidade} produtos vendidos\")\n",
        "    print(f\"Total de produtos vendidos pela {nome_loja}: {total_produtos}\")\n",
        "    print(\"-\" * 60)\n"
      ],
      "metadata": {
        "id": "A34YupIuYhfF",
        "colab": {
          "base_uri": "https://localhost:8080/"
        },
        "outputId": "b46baa69-a5a7-48be-963c-f26056b9c3d9"
      },
      "execution_count": 45,
      "outputs": [
        {
          "output_type": "stream",
          "name": "stdout",
          "text": [
            "Análise da quantidade de produtos vendidos por categoria em cada loja:\n",
            "\n",
            "Loja 1:\n",
            "- Categoria 'moveis': 465 produtos vendidos\n",
            "- Categoria 'eletronicos': 448 produtos vendidos\n",
            "- Categoria 'brinquedos': 324 produtos vendidos\n",
            "- Categoria 'eletrodomesticos': 312 produtos vendidos\n",
            "- Categoria 'esporte e lazer': 284 produtos vendidos\n",
            "- Categoria 'instrumentos musicais': 182 produtos vendidos\n",
            "- Categoria 'livros': 173 produtos vendidos\n",
            "- Categoria 'utilidades domesticas': 171 produtos vendidos\n",
            "Total de produtos vendidos pela Loja 1: 2359\n",
            "------------------------------------------------------------\n",
            "Loja 2:\n",
            "- Categoria 'moveis': 442 produtos vendidos\n",
            "- Categoria 'eletronicos': 422 produtos vendidos\n",
            "- Categoria 'brinquedos': 313 produtos vendidos\n",
            "- Categoria 'eletrodomesticos': 305 produtos vendidos\n",
            "- Categoria 'esporte e lazer': 275 produtos vendidos\n",
            "- Categoria 'instrumentos musicais': 224 produtos vendidos\n",
            "- Categoria 'livros': 197 produtos vendidos\n",
            "- Categoria 'utilidades domesticas': 181 produtos vendidos\n",
            "Total de produtos vendidos pela Loja 2: 2359\n",
            "------------------------------------------------------------\n",
            "Loja 3:\n",
            "- Categoria 'moveis': 499 produtos vendidos\n",
            "- Categoria 'eletronicos': 451 produtos vendidos\n",
            "- Categoria 'brinquedos': 315 produtos vendidos\n",
            "- Categoria 'eletrodomesticos': 278 produtos vendidos\n",
            "- Categoria 'esporte e lazer': 277 produtos vendidos\n",
            "- Categoria 'livros': 185 produtos vendidos\n",
            "- Categoria 'instrumentos musicais': 177 produtos vendidos\n",
            "- Categoria 'utilidades domesticas': 177 produtos vendidos\n",
            "Total de produtos vendidos pela Loja 3: 2359\n",
            "------------------------------------------------------------\n",
            "Loja 4:\n",
            "- Categoria 'moveis': 480 produtos vendidos\n",
            "- Categoria 'eletronicos': 451 produtos vendidos\n",
            "- Categoria 'brinquedos': 338 produtos vendidos\n",
            "- Categoria 'esporte e lazer': 277 produtos vendidos\n",
            "- Categoria 'eletrodomesticos': 254 produtos vendidos\n",
            "- Categoria 'utilidades domesticas': 201 produtos vendidos\n",
            "- Categoria 'livros': 187 produtos vendidos\n",
            "- Categoria 'instrumentos musicais': 170 produtos vendidos\n",
            "Total de produtos vendidos pela Loja 4: 2358\n",
            "------------------------------------------------------------\n"
          ]
        }
      ]
    },
    {
      "cell_type": "markdown",
      "source": [
        "# 3. Média de Avaliação das Lojas"
      ],
      "metadata": {
        "id": "Rq6tU_xSY3jk"
      }
    },
    {
      "cell_type": "code",
      "source": [
        "# Função para calcular a média de avaliação\n",
        "def media_avaliacao(df):\n",
        "    return round(df['Avaliação da compra'].mean(), 2)\n",
        "\n",
        "print(\"Média de avaliação dos clientes por loja:\\n\")\n",
        "\n",
        "# Loop para exibir a média de cada loja\n",
        "for nome_loja, df in lojas.items():\n",
        "    media = media_avaliacao(df)\n",
        "    print(f\"{nome_loja}: {media}\")"
      ],
      "metadata": {
        "id": "bh3jjjJwY5MU",
        "colab": {
          "base_uri": "https://localhost:8080/"
        },
        "outputId": "9e8935f1-27fd-4124-de65-cc7355b6de42"
      },
      "execution_count": 35,
      "outputs": [
        {
          "output_type": "stream",
          "name": "stdout",
          "text": [
            "Média de avaliação dos clientes por loja:\n",
            "\n",
            "Loja 1: 3.98\n",
            "Loja 2: 4.04\n",
            "Loja 3: 4.05\n",
            "Loja 4: 4.0\n"
          ]
        }
      ]
    },
    {
      "cell_type": "code",
      "source": [
        "import matplotlib.pyplot as plt\n",
        "\n",
        "avaliacoes = {\n",
        "    \"Loja 1\": round(loja['Avaliação da compra'].mean(), 2),\n",
        "    \"Loja 2\": round(loja2['Avaliação da compra'].mean(), 2),\n",
        "    \"Loja 3\": round(loja3['Avaliação da compra'].mean(), 2),\n",
        "    \"Loja 4\": round(loja4['Avaliação da compra'].mean(), 2)\n",
        "}\n",
        "\n",
        "# Ordem original\n",
        "nomes_lojas = [\"Loja 1\", \"Loja 2\", \"Loja 3\", \"Loja 4\"]\n",
        "medias_avaliacoes = [avaliacoes[loja] for loja in nomes_lojas]\n",
        "\n",
        "# Invertendo para o gráfico ficar Loja 1 no topo\n",
        "nomes_lojas_invertido = nomes_lojas[::-1]\n",
        "medias_avaliacoes_invertido = medias_avaliacoes[::-1]\n",
        "\n",
        "plt.figure(figsize=(8, 4))\n",
        "plt.barh(nomes_lojas_invertido, medias_avaliacoes_invertido, color='cornflowerblue')\n",
        "plt.xlabel('Média das Avaliações')\n",
        "plt.title('Média das Avaliações dos Clientes por Loja')\n",
        "\n",
        "for i, valor in enumerate(medias_avaliacoes_invertido):\n",
        "    plt.text(valor + 0.02, i, f\"{valor}\", va='center', fontsize=9)\n",
        "\n",
        "plt.xlim(0, 5)\n",
        "plt.tight_layout()\n",
        "plt.show()"
      ],
      "metadata": {
        "id": "I0KkjPoTY88F",
        "colab": {
          "base_uri": "https://localhost:8080/",
          "height": 407
        },
        "outputId": "e582454a-3381-4327-b5d6-bdf850fba5ed"
      },
      "execution_count": 55,
      "outputs": [
        {
          "output_type": "display_data",
          "data": {
            "text/plain": [
              "<Figure size 800x400 with 1 Axes>"
            ],
            "image/png": "[encoded data removed]"
          },
          "metadata": {}
        }
      ]
    },
    {
      "cell_type": "markdown",
      "source": [
        "# 4. Produtos Mais e Menos Vendidos"
      ],
      "metadata": {
        "id": "DmNp1KPBZCm-"
      }
    },
    {
      "cell_type": "code",
      "source": [
        "print(\"Produtos mais e menos vendidos por loja:\\n\")\n",
        "\n",
        "for nome_loja, df in lojas.items():\n",
        "    vendas_produtos = df['Produto'].value_counts()\n",
        "\n",
        "    produto_mais_vendido = vendas_produtos.idxmax()\n",
        "    qtd_mais_vendido = vendas_produtos.max()\n",
        "\n",
        "    produto_menos_vendido = vendas_produtos.idxmin()\n",
        "    qtd_menos_vendido = vendas_produtos.min()\n",
        "\n",
        "    print(f\"{nome_loja}:\")\n",
        "    print(f\"Produto mais vendido: '{produto_mais_vendido}' com {qtd_mais_vendido} vendas\")\n",
        "    print(f\"Produto menos vendido: '{produto_menos_vendido}' com {qtd_menos_vendido} vendas\")\n",
        "    print(\"-\" * 60)"
      ],
      "metadata": {
        "id": "qoyjqijQZHfF",
        "colab": {
          "base_uri": "https://localhost:8080/"
        },
        "outputId": "2ec4bb5c-3e4f-4b35-8da1-e782fa700709"
      },
      "execution_count": 41,
      "outputs": [
        {
          "output_type": "stream",
          "name": "stdout",
          "text": [
            "Produtos mais e menos vendidos por loja:\n",
            "\n",
            "Loja 1:\n",
            "Produto mais vendido: 'Micro-ondas' com 60 vendas\n",
            "Produto menos vendido: 'Headset' com 33 vendas\n",
            "------------------------------------------------------------\n",
            "Loja 2:\n",
            "Produto mais vendido: 'Iniciando em programação' com 65 vendas\n",
            "Produto menos vendido: 'Jogo de tabuleiro' com 32 vendas\n",
            "------------------------------------------------------------\n",
            "Loja 3:\n",
            "Produto mais vendido: 'Kit banquetas' com 57 vendas\n",
            "Produto menos vendido: 'Blocos de montar' com 35 vendas\n",
            "------------------------------------------------------------\n",
            "Loja 4:\n",
            "Produto mais vendido: 'Cama box' com 62 vendas\n",
            "Produto menos vendido: 'Guitarra' com 33 vendas\n",
            "------------------------------------------------------------\n"
          ]
        }
      ]
    },
    {
      "cell_type": "markdown",
      "source": [
        "# 5. Frete Médio por Loja\n"
      ],
      "metadata": {
        "id": "Fl0cGi3bZKqU"
      }
    },
    {
      "cell_type": "code",
      "source": [
        "# Função para calcular o frete médio\n",
        "def calcular_frete_medio(df):\n",
        "    return round(df['Frete'].mean(), 2)\n",
        "\n",
        "print(\"Custo médio de frete por loja:\\n\")\n",
        "\n",
        "for nome_loja, df in lojas.items():\n",
        "    frete_medio = calcular_frete_medio(df)\n",
        "    print(f\"{nome_loja}: R$ {frete_medio:,.2f}\")"
      ],
      "metadata": {
        "id": "S2JeaCykZNy9",
        "colab": {
          "base_uri": "https://localhost:8080/"
        },
        "outputId": "799855b3-1b8d-465b-b8b0-2d3cd6821eaa"
      },
      "execution_count": 42,
      "outputs": [
        {
          "output_type": "stream",
          "name": "stdout",
          "text": [
            "Custo médio de frete por loja:\n",
            "\n",
            "Loja 1: R$ 34.69\n",
            "Loja 2: R$ 33.62\n",
            "Loja 3: R$ 33.07\n",
            "Loja 4: R$ 31.28\n"
          ]
        }
      ]
    },
    {
      "cell_type": "code",
      "source": [
        "import matplotlib.pyplot as plt\n",
        "\n",
        "fretes_medios = {\n",
        "    \"Loja 1\": round(loja['Frete'].mean(), 2),\n",
        "    \"Loja 2\": round(loja2['Frete'].mean(), 2),\n",
        "    \"Loja 3\": round(loja3['Frete'].mean(), 2),\n",
        "    \"Loja 4\": round(loja4['Frete'].mean(), 2)\n",
        "}\n",
        "\n",
        "nomes_lojas = list(fretes_medios.keys())\n",
        "valores_fretes = list(fretes_medios.values())\n",
        "\n",
        "plt.figure(figsize=(7, 7))\n",
        "plt.pie(\n",
        "    valores_fretes,\n",
        "    labels=nomes_lojas,\n",
        "    autopct='%1.1f%%',\n",
        "    startangle=140,\n",
        "    colors=['#66b3ff','#99ff99','#ffcc99','#ff9999'],\n",
        "    labeldistance=1.05  # Valor padrão é ~1.1, diminuindo aproxima os labels\n",
        ")\n",
        "plt.title('Distribuição do Custo Médio de Frete por Loja')\n",
        "plt.axis('equal')\n",
        "plt.show()"
      ],
      "metadata": {
        "id": "0tSdCie9ZQlt",
        "colab": {
          "base_uri": "https://localhost:8080/",
          "height": 598
        },
        "outputId": "6d54b718-25b8-4f32-a6d5-a923245cbe3a"
      },
      "execution_count": 58,
      "outputs": [
        {
          "output_type": "display_data",
          "data": {
            "text/plain": [
              "<Figure size 700x700 with 1 Axes>"
            ],
            "image/png": "[encoded data removed]"
          },
          "metadata": {}
        }
      ]
    },
    {
      "cell_type": "markdown",
      "source": [
        "# Relatório Final\n",
        "\n",
        "Após analisar todos os indicadores — faturamento, quantidade de vendas, média das avaliações, produtos mais e menos vendidos e custo médio do frete — a decisão sobre qual loja deve ser vendida fica mais clara.\n",
        "\n",
        "A **Loja 4 apresenta o pior desempenho comercial entre as quatro lojas**. Ela tem o menor faturamento total (R$ 1.384.497,58) e o menor volume de vendas, mesmo apresentando o custo médio de frete mais baixo.\n",
        "\n",
        "Portanto, recomenda-se **vender a Loja 4**, pois é a que demonstra menor potencial de crescimento e rentabilidade."
      ],
      "metadata": {
        "id": "W4LOLEbQTSJe"
      }
    }
  ]
}